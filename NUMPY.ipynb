{
 "cells": [
  {
   "cell_type": "code",
   "execution_count": 13,
   "id": "5d0cfdc6-676d-40df-82ca-3503c891239a",
   "metadata": {},
   "outputs": [
    {
     "name": "stdout",
     "output_type": "stream",
     "text": [
      "Original Array:\n",
      " [[ 1  2 71]\n",
      " [48 83 21]\n",
      " [97 70 93]]\n",
      "Transposed Array:\n",
      " [[ 1 48 97]\n",
      " [ 2 83 70]\n",
      " [71 21 93]]\n"
     ]
    }
   ],
   "source": [
    "#1. Create a 3x3 NumPy array with random integers between 1 and 100. Then, interchange its rows and columns.\n",
    "import numpy as np\n",
    "array = np.random.randint(1, 101, size=(3, 3))\n",
    "transposed_array = array.T  \n",
    "print(\"Original Array:\\n\", array)\n",
    "print(\"Transposed Array:\\n\", transposed_array)\n"
   ]
  },
  {
   "cell_type": "code",
   "execution_count": 15,
   "id": "26e7a1ee-a2b3-4277-9ffa-e0c8b361798e",
   "metadata": {},
   "outputs": [
    {
     "name": "stdout",
     "output_type": "stream",
     "text": [
      "2x5 Array:\n",
      " [[0 1 2 3 4]\n",
      " [5 6 7 8 9]]\n",
      "5x2 Array:\n",
      " [[0 1]\n",
      " [2 3]\n",
      " [4 5]\n",
      " [6 7]\n",
      " [8 9]]\n"
     ]
    }
   ],
   "source": [
    "#2. Generate a 1D NumPy array with 10 elements. Reshape it into a 2x5 array, then into a 5x2 array.\n",
    "array = np.arange(10)  \n",
    "reshaped_2x5 = array.reshape(2, 5)\n",
    "reshaped_5x2 = array.reshape(5, 2)\n",
    "print(\"2x5 Array:\\n\", reshaped_2x5)\n",
    "print(\"5x2 Array:\\n\", reshaped_5x2)\n"
   ]
  },
  {
   "cell_type": "code",
   "execution_count": 17,
   "id": "dd35e47b-8582-449a-b34e-30975096fd3b",
   "metadata": {},
   "outputs": [
    {
     "name": "stdout",
     "output_type": "stream",
     "text": [
      "Bordered Array:\n",
      " [[0.         0.         0.         0.         0.         0.        ]\n",
      " [0.         0.59412951 0.03597446 0.61450771 0.85398818 0.        ]\n",
      " [0.         0.16901431 0.96142804 0.37733375 0.24877084 0.        ]\n",
      " [0.         0.438382   0.6178702  0.28678208 0.93519874 0.        ]\n",
      " [0.         0.34885731 0.15345041 0.0985494  0.41887846 0.        ]\n",
      " [0.         0.         0.         0.         0.         0.        ]]\n"
     ]
    }
   ],
   "source": [
    "#3. Create a 4x4 NumPy array with random float values. Add a border of zeros around it, resulting in a 6x6 array\n",
    "array = np.random.rand(4, 4) \n",
    "bordered_array = np.pad(array, pad_width=1, mode='constant', constant_values=0)\n",
    "print(\"Bordered Array:\\n\", bordered_array)\n"
   ]
  },
  {
   "cell_type": "code",
   "execution_count": 19,
   "id": "05c16d84-6926-4663-8b15-8e8753769177",
   "metadata": {},
   "outputs": [
    {
     "name": "stdout",
     "output_type": "stream",
     "text": [
      "Array with Step of 5:\n",
      " [10 15 20 25 30 35 40 45 50 55 60]\n"
     ]
    }
   ],
   "source": [
    "#4. Using NumPy, create an array of integers from 10 to 60 with a step of 5.\n",
    "array = np.arange(10, 61, 5)\n",
    "print(\"Array with Step of 5:\\n\", array)\n"
   ]
  },
  {
   "cell_type": "code",
   "execution_count": 21,
   "id": "21230a1b-8189-4809-b694-e52df530bb5a",
   "metadata": {},
   "outputs": [
    {
     "name": "stdout",
     "output_type": "stream",
     "text": [
      "Uppercase: ['PYTHON' 'NUMPY' 'PANDAS']\n",
      "Lowercase: ['python' 'numpy' 'pandas']\n",
      "Title Case: ['Python' 'Numpy' 'Pandas']\n"
     ]
    }
   ],
   "source": [
    "#5. Create a NumPy array of strings ['python', 'numpy', 'pandas']. Apply different case transformations (uppercase, lowercase, title case, etc.) to each element.\n",
    "array = np.array(['python', 'numpy', 'pandas'])\n",
    "uppercase = np.char.upper(array)\n",
    "lowercase = np.char.lower(array)\n",
    "titlecase = np.char.title(array)\n",
    "print(\"Uppercase:\", uppercase)\n",
    "print(\"Lowercase:\", lowercase)\n",
    "print(\"Title Case:\", titlecase)\n"
   ]
  },
  {
   "cell_type": "code",
   "execution_count": 23,
   "id": "e52bfe6f-4f4d-41dc-a259-9a3de76b3ce2",
   "metadata": {},
   "outputs": [
    {
     "name": "stdout",
     "output_type": "stream",
     "text": [
      "Spaced Words: ['h e l l o' 'w o r l d']\n"
     ]
    }
   ],
   "source": [
    "#6. Generate a NumPy array of words. Insert a space between each character of every word in the array.\n",
    "words = np.array(['hello', 'world'])\n",
    "spaced_words = np.char.join(\" \", words)\n",
    "print(\"Spaced Words:\", spaced_words)\n"
   ]
  },
  {
   "cell_type": "code",
   "execution_count": 25,
   "id": "41822b0a-211a-4ca1-b873-0c03d42e3ad4",
   "metadata": {},
   "outputs": [
    {
     "name": "stdout",
     "output_type": "stream",
     "text": [
      "Addition:\n",
      " [[ 6  8]\n",
      " [10 12]]\n",
      "Subtraction:\n",
      " [[-4 -4]\n",
      " [-4 -4]]\n",
      "Multiplication:\n",
      " [[ 5 12]\n",
      " [21 32]]\n",
      "Division:\n",
      " [[0.2        0.33333333]\n",
      " [0.42857143 0.5       ]]\n"
     ]
    }
   ],
   "source": [
    "#7. Create two 2D NumPy arrays and perform element-wise addition, subtraction, multiplication, and division.\n",
    "array1 = np.array([[1, 2], [3, 4]])\n",
    "array2 = np.array([[5, 6], [7, 8]])\n",
    "addition = np.add(array1, array2)\n",
    "subtraction = np.subtract(array1, array2)\n",
    "multiplication = np.multiply(array1, array2)\n",
    "division = np.divide(array1, array2)\n",
    "print(\"Addition:\\n\", addition)\n",
    "print(\"Subtraction:\\n\", subtraction)\n",
    "print(\"Multiplication:\\n\", multiplication)\n",
    "print(\"Division:\\n\", division)\n"
   ]
  },
  {
   "cell_type": "code",
   "execution_count": 27,
   "id": "1f26e899-daf8-40a1-8515-3e7de669e1a1",
   "metadata": {},
   "outputs": [
    {
     "name": "stdout",
     "output_type": "stream",
     "text": [
      "Identity Matrix:\n",
      " [[1. 0. 0. 0. 0.]\n",
      " [0. 1. 0. 0. 0.]\n",
      " [0. 0. 1. 0. 0.]\n",
      " [0. 0. 0. 1. 0.]\n",
      " [0. 0. 0. 0. 1.]]\n",
      "Diagonal Elements: [1. 1. 1. 1. 1.]\n"
     ]
    }
   ],
   "source": [
    "#8. Use NumPy to create a 5x5 identity matrix, then extract its diagonal elements.\n",
    "identity_matrix = np.eye(5)\n",
    "diagonal_elements = np.diag(identity_matrix)\n",
    "print(\"Identity Matrix:\\n\", identity_matrix)\n",
    "print(\"Diagonal Elements:\", diagonal_elements)\n"
   ]
  },
  {
   "cell_type": "code",
   "execution_count": 29,
   "id": "316ea76f-8699-4e0a-8fa2-a9e922f58eeb",
   "metadata": {},
   "outputs": [
    {
     "name": "stdout",
     "output_type": "stream",
     "text": [
      "Prime Numbers: [233, 137, 397, 971, 659, 491, 421, 557, 787, 103, 277, 251, 743, 617, 43, 653, 389, 13, 109, 547, 773, 491, 491, 389]\n"
     ]
    }
   ],
   "source": [
    "#9. Generate a NumPy array of 100 random integers between 0 and 1000. Find and display all prime numbers in this array.\n",
    "import sympy \n",
    "array = np.random.randint(0, 1000, size=100)\n",
    "primes = [num for num in array if sympy.isprime(num)]\n",
    "print(\"Prime Numbers:\", primes)\n"
   ]
  },
  {
   "cell_type": "code",
   "execution_count": 31,
   "id": "86afaf73-6268-4579-afbf-050a71c577d6",
   "metadata": {},
   "outputs": [
    {
     "name": "stdout",
     "output_type": "stream",
     "text": [
      "Weekly Averages: [26.571428571428573, 26.857142857142858, 30.428571428571427, 29.857142857142858, 24.5]\n"
     ]
    }
   ],
   "source": [
    "#10. Create a NumPy array representing daily temperatures for a month. Calculate and display the weekly averages.\n",
    "temperatures = np.random.randint(20, 40, size=30)  \n",
    "weekly_averages = [np.mean(temperatures[i:i+7]) for i in range(0, 30, 7)]\n",
    "print(\"Weekly Averages:\", weekly_averages)\n"
   ]
  },
  {
   "cell_type": "code",
   "execution_count": null,
   "id": "f5c25b3a-15a4-4891-8dec-058f5f41d59b",
   "metadata": {},
   "outputs": [],
   "source": []
  }
 ],
 "metadata": {
  "kernelspec": {
   "display_name": "Python 3 (ipykernel)",
   "language": "python",
   "name": "python3"
  },
  "language_info": {
   "codemirror_mode": {
    "name": "ipython",
    "version": 3
   },
   "file_extension": ".py",
   "mimetype": "text/x-python",
   "name": "python",
   "nbconvert_exporter": "python",
   "pygments_lexer": "ipython3",
   "version": "3.12.4"
  }
 },
 "nbformat": 4,
 "nbformat_minor": 5
}
